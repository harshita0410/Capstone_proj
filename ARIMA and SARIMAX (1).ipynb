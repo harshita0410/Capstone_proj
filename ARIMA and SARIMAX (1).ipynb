{
 "cells": [
  {
   "cell_type": "code",
   "execution_count": 2,
   "id": "fc10b7b6",
   "metadata": {},
   "outputs": [],
   "source": [
    "import pandas as pd \n",
    "import numpy as np\n",
    "import matplotlib.pyplot as plt\n",
    "from sklearn.metrics import mean_absolute_error\n"
   ]
  },
  {
   "cell_type": "code",
   "execution_count": 3,
   "id": "b52335e8",
   "metadata": {},
   "outputs": [],
   "source": [
    "df = pd.read_csv('Final.csv')"
   ]
  },
  {
   "cell_type": "code",
   "execution_count": 4,
   "id": "9a3c4f67",
   "metadata": {},
   "outputs": [
    {
     "data": {
      "text/html": [
       "<div>\n",
       "<style scoped>\n",
       "    .dataframe tbody tr th:only-of-type {\n",
       "        vertical-align: middle;\n",
       "    }\n",
       "\n",
       "    .dataframe tbody tr th {\n",
       "        vertical-align: top;\n",
       "    }\n",
       "\n",
       "    .dataframe thead th {\n",
       "        text-align: right;\n",
       "    }\n",
       "</style>\n",
       "<table border=\"1\" class=\"dataframe\">\n",
       "  <thead>\n",
       "    <tr style=\"text-align: right;\">\n",
       "      <th></th>\n",
       "      <th>0</th>\n",
       "      <th>1</th>\n",
       "      <th>2</th>\n",
       "      <th>3</th>\n",
       "      <th>4</th>\n",
       "    </tr>\n",
       "  </thead>\n",
       "  <tbody>\n",
       "    <tr>\n",
       "      <th>Date</th>\n",
       "      <td>01-01-2001</td>\n",
       "      <td>01-02-2001</td>\n",
       "      <td>01-03-2001</td>\n",
       "      <td>01-04-2001</td>\n",
       "      <td>01-05-2001</td>\n",
       "    </tr>\n",
       "    <tr>\n",
       "      <th>provincename</th>\n",
       "      <td>Alberta</td>\n",
       "      <td>Alberta</td>\n",
       "      <td>Alberta</td>\n",
       "      <td>Alberta</td>\n",
       "      <td>Alberta</td>\n",
       "    </tr>\n",
       "    <tr>\n",
       "      <th>Construction</th>\n",
       "      <td>12.446633</td>\n",
       "      <td>12.299386</td>\n",
       "      <td>12.524037</td>\n",
       "      <td>12.250076</td>\n",
       "      <td>12.47382</td>\n",
       "    </tr>\n",
       "    <tr>\n",
       "      <th>Manufacturing</th>\n",
       "      <td>11.083963</td>\n",
       "      <td>11.630462</td>\n",
       "      <td>11.521897</td>\n",
       "      <td>11.607502</td>\n",
       "      <td>11.176745</td>\n",
       "    </tr>\n",
       "    <tr>\n",
       "      <th>Transportation</th>\n",
       "      <td>14.519106</td>\n",
       "      <td>15.468519</td>\n",
       "      <td>15.317665</td>\n",
       "      <td>14.672291</td>\n",
       "      <td>14.724117</td>\n",
       "    </tr>\n",
       "    <tr>\n",
       "      <th>Healthcare</th>\n",
       "      <td>9.970829</td>\n",
       "      <td>9.815411</td>\n",
       "      <td>9.462123</td>\n",
       "      <td>9.586288</td>\n",
       "      <td>9.534562</td>\n",
       "    </tr>\n",
       "    <tr>\n",
       "      <th>Agriculture</th>\n",
       "      <td>12.725962</td>\n",
       "      <td>13.264455</td>\n",
       "      <td>13.179447</td>\n",
       "      <td>13.812045</td>\n",
       "      <td>13.615471</td>\n",
       "    </tr>\n",
       "    <tr>\n",
       "      <th>Population</th>\n",
       "      <td>7851</td>\n",
       "      <td>7851</td>\n",
       "      <td>7851</td>\n",
       "      <td>7851</td>\n",
       "      <td>7851</td>\n",
       "    </tr>\n",
       "    <tr>\n",
       "      <th>Station Name</th>\n",
       "      <td>Banff</td>\n",
       "      <td>Banff</td>\n",
       "      <td>Banff</td>\n",
       "      <td>Banff</td>\n",
       "      <td>Banff</td>\n",
       "    </tr>\n",
       "    <tr>\n",
       "      <th>Max Temp (°C)</th>\n",
       "      <td>-0.1</td>\n",
       "      <td>3.5</td>\n",
       "      <td>2.7</td>\n",
       "      <td>5.9</td>\n",
       "      <td>7.6</td>\n",
       "    </tr>\n",
       "    <tr>\n",
       "      <th>Total Snow (cm)</th>\n",
       "      <td>1.5</td>\n",
       "      <td>1.428571</td>\n",
       "      <td>1.25</td>\n",
       "      <td>1.444444</td>\n",
       "      <td>1.3</td>\n",
       "    </tr>\n",
       "    <tr>\n",
       "      <th>Total Precip (mm)</th>\n",
       "      <td>0.0</td>\n",
       "      <td>0.0</td>\n",
       "      <td>0.0</td>\n",
       "      <td>5.0</td>\n",
       "      <td>1.6</td>\n",
       "    </tr>\n",
       "    <tr>\n",
       "      <th>Min Temp (°C)</th>\n",
       "      <td>-6.8</td>\n",
       "      <td>-4.6</td>\n",
       "      <td>-3.1</td>\n",
       "      <td>-3.0</td>\n",
       "      <td>-2.8</td>\n",
       "    </tr>\n",
       "    <tr>\n",
       "      <th>Mean Temp (°C)</th>\n",
       "      <td>-3.5</td>\n",
       "      <td>-0.6</td>\n",
       "      <td>-0.2</td>\n",
       "      <td>1.5</td>\n",
       "      <td>2.4</td>\n",
       "    </tr>\n",
       "    <tr>\n",
       "      <th>Heat Deg Days (°C)</th>\n",
       "      <td>21.5</td>\n",
       "      <td>18.6</td>\n",
       "      <td>18.2</td>\n",
       "      <td>16.5</td>\n",
       "      <td>15.6</td>\n",
       "    </tr>\n",
       "    <tr>\n",
       "      <th>Cool Deg Days (°C)</th>\n",
       "      <td>0.0</td>\n",
       "      <td>0.0</td>\n",
       "      <td>0.0</td>\n",
       "      <td>0.0</td>\n",
       "      <td>0.0</td>\n",
       "    </tr>\n",
       "    <tr>\n",
       "      <th>Longitude (x)</th>\n",
       "      <td>-115.55</td>\n",
       "      <td>-115.55</td>\n",
       "      <td>-115.55</td>\n",
       "      <td>-115.55</td>\n",
       "      <td>-115.55</td>\n",
       "    </tr>\n",
       "    <tr>\n",
       "      <th>Latitude (y)</th>\n",
       "      <td>51.19</td>\n",
       "      <td>51.19</td>\n",
       "      <td>51.19</td>\n",
       "      <td>51.19</td>\n",
       "      <td>51.19</td>\n",
       "    </tr>\n",
       "  </tbody>\n",
       "</table>\n",
       "</div>"
      ],
      "text/plain": [
       "                             0           1           2           3           4\n",
       "Date                01-01-2001  01-02-2001  01-03-2001  01-04-2001  01-05-2001\n",
       "provincename           Alberta     Alberta     Alberta     Alberta     Alberta\n",
       "Construction         12.446633   12.299386   12.524037   12.250076    12.47382\n",
       "Manufacturing        11.083963   11.630462   11.521897   11.607502   11.176745\n",
       "Transportation       14.519106   15.468519   15.317665   14.672291   14.724117\n",
       "Healthcare            9.970829    9.815411    9.462123    9.586288    9.534562\n",
       "Agriculture          12.725962   13.264455   13.179447   13.812045   13.615471\n",
       "Population                7851        7851        7851        7851        7851\n",
       "Station Name             Banff       Banff       Banff       Banff       Banff\n",
       "Max Temp (°C)             -0.1         3.5         2.7         5.9         7.6\n",
       "Total Snow (cm)            1.5    1.428571        1.25    1.444444         1.3\n",
       "Total Precip (mm)          0.0         0.0         0.0         5.0         1.6\n",
       "Min Temp (°C)             -6.8        -4.6        -3.1        -3.0        -2.8\n",
       "Mean Temp (°C)            -3.5        -0.6        -0.2         1.5         2.4\n",
       "Heat Deg Days (°C)        21.5        18.6        18.2        16.5        15.6\n",
       "Cool Deg Days (°C)         0.0         0.0         0.0         0.0         0.0\n",
       "Longitude (x)          -115.55     -115.55     -115.55     -115.55     -115.55\n",
       "Latitude (y)             51.19       51.19       51.19       51.19       51.19"
      ]
     },
     "execution_count": 4,
     "metadata": {},
     "output_type": "execute_result"
    }
   ],
   "source": [
    "df.head().T"
   ]
  },
  {
   "cell_type": "code",
   "execution_count": 5,
   "id": "a3f58a58",
   "metadata": {},
   "outputs": [],
   "source": [
    "Agriculture_Vauxhall = df[df['Station Name'] == 'Vauxhall'][['Date', 'Agriculture']]\n"
   ]
  },
  {
   "cell_type": "code",
   "execution_count": 6,
   "id": "b9a58ddf",
   "metadata": {},
   "outputs": [
    {
     "data": {
      "text/html": [
       "<div>\n",
       "<style scoped>\n",
       "    .dataframe tbody tr th:only-of-type {\n",
       "        vertical-align: middle;\n",
       "    }\n",
       "\n",
       "    .dataframe tbody tr th {\n",
       "        vertical-align: top;\n",
       "    }\n",
       "\n",
       "    .dataframe thead th {\n",
       "        text-align: right;\n",
       "    }\n",
       "</style>\n",
       "<table border=\"1\" class=\"dataframe\">\n",
       "  <thead>\n",
       "    <tr style=\"text-align: right;\">\n",
       "      <th></th>\n",
       "      <th>Date</th>\n",
       "      <th>Agriculture</th>\n",
       "    </tr>\n",
       "  </thead>\n",
       "  <tbody>\n",
       "    <tr>\n",
       "      <th>6300</th>\n",
       "      <td>01-01-2001</td>\n",
       "      <td>32.521903</td>\n",
       "    </tr>\n",
       "    <tr>\n",
       "      <th>6301</th>\n",
       "      <td>01-02-2001</td>\n",
       "      <td>33.898051</td>\n",
       "    </tr>\n",
       "    <tr>\n",
       "      <th>6302</th>\n",
       "      <td>01-03-2001</td>\n",
       "      <td>33.680808</td>\n",
       "    </tr>\n",
       "    <tr>\n",
       "      <th>6303</th>\n",
       "      <td>01-04-2001</td>\n",
       "      <td>35.297448</td>\n",
       "    </tr>\n",
       "    <tr>\n",
       "      <th>6304</th>\n",
       "      <td>01-05-2001</td>\n",
       "      <td>34.795092</td>\n",
       "    </tr>\n",
       "  </tbody>\n",
       "</table>\n",
       "</div>"
      ],
      "text/plain": [
       "            Date  Agriculture\n",
       "6300  01-01-2001    32.521903\n",
       "6301  01-02-2001    33.898051\n",
       "6302  01-03-2001    33.680808\n",
       "6303  01-04-2001    35.297448\n",
       "6304  01-05-2001    34.795092"
      ]
     },
     "execution_count": 6,
     "metadata": {},
     "output_type": "execute_result"
    }
   ],
   "source": [
    "Agriculture_Vauxhall.head()"
   ]
  },
  {
   "cell_type": "code",
   "execution_count": null,
   "id": "cf55eba1",
   "metadata": {},
   "outputs": [],
   "source": []
  },
  {
   "cell_type": "code",
   "execution_count": null,
   "id": "232c689a",
   "metadata": {},
   "outputs": [],
   "source": []
  },
  {
   "cell_type": "code",
   "execution_count": null,
   "id": "8711e59f",
   "metadata": {},
   "outputs": [],
   "source": []
  },
  {
   "cell_type": "code",
   "execution_count": null,
   "id": "34ef4aed",
   "metadata": {},
   "outputs": [],
   "source": []
  },
  {
   "cell_type": "code",
   "execution_count": 7,
   "id": "823b81ff",
   "metadata": {},
   "outputs": [],
   "source": [
    "Agriculture_Vauxhall.set_index('Date', inplace=True)"
   ]
  },
  {
   "cell_type": "code",
   "execution_count": 8,
   "id": "337d7747",
   "metadata": {},
   "outputs": [
    {
     "data": {
      "text/html": [
       "<div>\n",
       "<style scoped>\n",
       "    .dataframe tbody tr th:only-of-type {\n",
       "        vertical-align: middle;\n",
       "    }\n",
       "\n",
       "    .dataframe tbody tr th {\n",
       "        vertical-align: top;\n",
       "    }\n",
       "\n",
       "    .dataframe thead th {\n",
       "        text-align: right;\n",
       "    }\n",
       "</style>\n",
       "<table border=\"1\" class=\"dataframe\">\n",
       "  <thead>\n",
       "    <tr style=\"text-align: right;\">\n",
       "      <th></th>\n",
       "      <th>Agriculture</th>\n",
       "    </tr>\n",
       "    <tr>\n",
       "      <th>Date</th>\n",
       "      <th></th>\n",
       "    </tr>\n",
       "  </thead>\n",
       "  <tbody>\n",
       "    <tr>\n",
       "      <th>01-01-2001</th>\n",
       "      <td>32.521903</td>\n",
       "    </tr>\n",
       "    <tr>\n",
       "      <th>01-02-2001</th>\n",
       "      <td>33.898051</td>\n",
       "    </tr>\n",
       "    <tr>\n",
       "      <th>01-03-2001</th>\n",
       "      <td>33.680808</td>\n",
       "    </tr>\n",
       "    <tr>\n",
       "      <th>01-04-2001</th>\n",
       "      <td>35.297448</td>\n",
       "    </tr>\n",
       "    <tr>\n",
       "      <th>01-05-2001</th>\n",
       "      <td>34.795092</td>\n",
       "    </tr>\n",
       "  </tbody>\n",
       "</table>\n",
       "</div>"
      ],
      "text/plain": [
       "            Agriculture\n",
       "Date                   \n",
       "01-01-2001    32.521903\n",
       "01-02-2001    33.898051\n",
       "01-03-2001    33.680808\n",
       "01-04-2001    35.297448\n",
       "01-05-2001    34.795092"
      ]
     },
     "execution_count": 8,
     "metadata": {},
     "output_type": "execute_result"
    }
   ],
   "source": [
    "Agriculture_Vauxhall.head()"
   ]
  },
  {
   "cell_type": "code",
   "execution_count": 9,
   "id": "7b70943d",
   "metadata": {},
   "outputs": [
    {
     "data": {
      "text/plain": [
       "Agriculture    0\n",
       "dtype: int64"
      ]
     },
     "execution_count": 9,
     "metadata": {},
     "output_type": "execute_result"
    }
   ],
   "source": [
    "Agriculture_Vauxhall.isnull().sum()"
   ]
  },
  {
   "cell_type": "code",
   "execution_count": 10,
   "id": "f204a12f",
   "metadata": {},
   "outputs": [
    {
     "data": {
      "text/html": [
       "<div>\n",
       "<style scoped>\n",
       "    .dataframe tbody tr th:only-of-type {\n",
       "        vertical-align: middle;\n",
       "    }\n",
       "\n",
       "    .dataframe tbody tr th {\n",
       "        vertical-align: top;\n",
       "    }\n",
       "\n",
       "    .dataframe thead th {\n",
       "        text-align: right;\n",
       "    }\n",
       "</style>\n",
       "<table border=\"1\" class=\"dataframe\">\n",
       "  <thead>\n",
       "    <tr style=\"text-align: right;\">\n",
       "      <th></th>\n",
       "      <th>Agriculture</th>\n",
       "    </tr>\n",
       "  </thead>\n",
       "  <tbody>\n",
       "    <tr>\n",
       "      <th>count</th>\n",
       "      <td>252.000000</td>\n",
       "    </tr>\n",
       "    <tr>\n",
       "      <th>mean</th>\n",
       "      <td>42.649961</td>\n",
       "    </tr>\n",
       "    <tr>\n",
       "      <th>std</th>\n",
       "      <td>6.946989</td>\n",
       "    </tr>\n",
       "    <tr>\n",
       "      <th>min</th>\n",
       "      <td>30.859224</td>\n",
       "    </tr>\n",
       "    <tr>\n",
       "      <th>25%</th>\n",
       "      <td>36.713733</td>\n",
       "    </tr>\n",
       "    <tr>\n",
       "      <th>50%</th>\n",
       "      <td>40.816462</td>\n",
       "    </tr>\n",
       "    <tr>\n",
       "      <th>75%</th>\n",
       "      <td>48.875647</td>\n",
       "    </tr>\n",
       "    <tr>\n",
       "      <th>max</th>\n",
       "      <td>58.404189</td>\n",
       "    </tr>\n",
       "  </tbody>\n",
       "</table>\n",
       "</div>"
      ],
      "text/plain": [
       "       Agriculture\n",
       "count   252.000000\n",
       "mean     42.649961\n",
       "std       6.946989\n",
       "min      30.859224\n",
       "25%      36.713733\n",
       "50%      40.816462\n",
       "75%      48.875647\n",
       "max      58.404189"
      ]
     },
     "execution_count": 10,
     "metadata": {},
     "output_type": "execute_result"
    }
   ],
   "source": [
    "Agriculture_Vauxhall.describe()"
   ]
  },
  {
   "cell_type": "code",
   "execution_count": 11,
   "id": "ef4da05f",
   "metadata": {},
   "outputs": [
    {
     "data": {
      "text/plain": [
       "<AxesSubplot: xlabel='Date'>"
      ]
     },
     "execution_count": 11,
     "metadata": {},
     "output_type": "execute_result"
    },
    {
     "data": {
      "image/png": "[encoded data removed]",
      "text/plain": [
       "<Figure size 640x480 with 1 Axes>"
      ]
     },
     "metadata": {},
     "output_type": "display_data"
    }
   ],
   "source": [
    "Agriculture_Vauxhall.plot()"
   ]
  },
  {
   "cell_type": "code",
   "execution_count": 12,
   "id": "19d0f85d",
   "metadata": {},
   "outputs": [
    {
     "data": {
      "image/png": "[encoded data removed]",
      "text/plain": [
       "<Figure size 640x480 with 4 Axes>"
      ]
     },
     "metadata": {},
     "output_type": "display_data"
    }
   ],
   "source": [
    "# Import seasonal decompose\n",
    "from statsmodels.tsa.seasonal import seasonal_decompose\n",
    "\n",
    "# Perform additive decomposition\n",
    "decomp = seasonal_decompose(Agriculture_Vauxhall['Agriculture'],\n",
    "                            period=12)\n",
    "\n",
    "# Plot decomposition\n",
    "decomp.plot()\n",
    "plt.show()"
   ]
  },
  {
   "cell_type": "markdown",
   "id": "c7dcbaa3",
   "metadata": {},
   "source": [
    "### Dicky-Fuller Test"
   ]
  },
  {
   "cell_type": "code",
   "execution_count": 13,
   "id": "5461279c",
   "metadata": {},
   "outputs": [
    {
     "name": "stdout",
     "output_type": "stream",
     "text": [
      "(-1.390508166986644, 0.5868180682840939, 1, 250, {'1%': -3.456780859712, '5%': -2.8731715065600003, '10%': -2.572968544}, 902.834330571939)\n"
     ]
    }
   ],
   "source": [
    "from statsmodels.tsa.stattools import adfuller\n",
    "\n",
    "test_result=adfuller(Agriculture_Vauxhall['Agriculture'])\n",
    "print(test_result)"
   ]
  },
  {
   "cell_type": "code",
   "execution_count": 14,
   "id": "a3cec752",
   "metadata": {},
   "outputs": [],
   "source": [
    "#Ho null hypostheis : It is non stationary\n",
    "#H1 Alternate hypoyhesis : It is stationary\n",
    "\n",
    "def adfuller_test(sales):\n",
    "    result=adfuller(sales)\n",
    "    labels = ['ADF Test Statistic','p-value','#Lags Used','Number of Observations Used']\n",
    "    for value,label in zip(result,labels):\n",
    "        print(label+' : '+str(value) )\n",
    "    if result[1] <= 0.05:\n",
    "        print(\"strong evidence against the null hypothesis(Ho), reject the null hypothesis. Data has no unit root and is stationary\")\n",
    "    else:\n",
    "        print(\"weak evidence against null hypothesis, time series has a unit root, indicating it is non-stationary \")\n",
    "    "
   ]
  },
  {
   "cell_type": "code",
   "execution_count": 15,
   "id": "c93f0fed",
   "metadata": {},
   "outputs": [
    {
     "name": "stdout",
     "output_type": "stream",
     "text": [
      "ADF Test Statistic : -1.390508166986644\n",
      "p-value : 0.5868180682840939\n",
      "#Lags Used : 1\n",
      "Number of Observations Used : 250\n",
      "weak evidence against null hypothesis, time series has a unit root, indicating it is non-stationary \n"
     ]
    }
   ],
   "source": [
    "adfuller_test(Agriculture_Vauxhall['Agriculture'])"
   ]
  },
  {
   "cell_type": "markdown",
   "id": "a8cbfe45",
   "metadata": {},
   "source": [
    "#### so data is not stationary we need to make it stationary"
   ]
  },
  {
   "cell_type": "code",
   "execution_count": 16,
   "id": "3d3c6681",
   "metadata": {},
   "outputs": [],
   "source": [
    "Agriculture_Vauxhall['Agriculture First Difference'] = Agriculture_Vauxhall['Agriculture'] - Agriculture_Vauxhall['Agriculture'].shift(1)"
   ]
  },
  {
   "cell_type": "code",
   "execution_count": 17,
   "id": "6d0bcfe0",
   "metadata": {},
   "outputs": [
    {
     "data": {
      "text/html": [
       "<div>\n",
       "<style scoped>\n",
       "    .dataframe tbody tr th:only-of-type {\n",
       "        vertical-align: middle;\n",
       "    }\n",
       "\n",
       "    .dataframe tbody tr th {\n",
       "        vertical-align: top;\n",
       "    }\n",
       "\n",
       "    .dataframe thead th {\n",
       "        text-align: right;\n",
       "    }\n",
       "</style>\n",
       "<table border=\"1\" class=\"dataframe\">\n",
       "  <thead>\n",
       "    <tr style=\"text-align: right;\">\n",
       "      <th></th>\n",
       "      <th>Agriculture</th>\n",
       "      <th>Agriculture First Difference</th>\n",
       "    </tr>\n",
       "    <tr>\n",
       "      <th>Date</th>\n",
       "      <th></th>\n",
       "      <th></th>\n",
       "    </tr>\n",
       "  </thead>\n",
       "  <tbody>\n",
       "    <tr>\n",
       "      <th>01-01-2001</th>\n",
       "      <td>32.521903</td>\n",
       "      <td>NaN</td>\n",
       "    </tr>\n",
       "    <tr>\n",
       "      <th>01-02-2001</th>\n",
       "      <td>33.898051</td>\n",
       "      <td>1.376148</td>\n",
       "    </tr>\n",
       "    <tr>\n",
       "      <th>01-03-2001</th>\n",
       "      <td>33.680808</td>\n",
       "      <td>-0.217243</td>\n",
       "    </tr>\n",
       "    <tr>\n",
       "      <th>01-04-2001</th>\n",
       "      <td>35.297448</td>\n",
       "      <td>1.616640</td>\n",
       "    </tr>\n",
       "    <tr>\n",
       "      <th>01-05-2001</th>\n",
       "      <td>34.795092</td>\n",
       "      <td>-0.502356</td>\n",
       "    </tr>\n",
       "  </tbody>\n",
       "</table>\n",
       "</div>"
      ],
      "text/plain": [
       "            Agriculture  Agriculture First Difference\n",
       "Date                                                 \n",
       "01-01-2001    32.521903                           NaN\n",
       "01-02-2001    33.898051                      1.376148\n",
       "01-03-2001    33.680808                     -0.217243\n",
       "01-04-2001    35.297448                      1.616640\n",
       "01-05-2001    34.795092                     -0.502356"
      ]
     },
     "execution_count": 17,
     "metadata": {},
     "output_type": "execute_result"
    }
   ],
   "source": [
    "Agriculture_Vauxhall.head()"
   ]
  },
  {
   "cell_type": "code",
   "execution_count": 18,
   "id": "d8b3f34f",
   "metadata": {},
   "outputs": [
    {
     "name": "stdout",
     "output_type": "stream",
     "text": [
      "ADF Test Statistic : -9.62395985110668\n",
      "p-value : 1.6799411474149703e-16\n",
      "#Lags Used : 3\n",
      "Number of Observations Used : 247\n",
      "strong evidence against the null hypothesis(Ho), reject the null hypothesis. Data has no unit root and is stationary\n"
     ]
    }
   ],
   "source": [
    "adfuller_test(Agriculture_Vauxhall['Agriculture First Difference'].dropna())"
   ]
  },
  {
   "cell_type": "code",
   "execution_count": 19,
   "id": "35d8d61b",
   "metadata": {},
   "outputs": [
    {
     "data": {
      "text/plain": [
       "<AxesSubplot: xlabel='Date'>"
      ]
     },
     "execution_count": 19,
     "metadata": {},
     "output_type": "execute_result"
    },
    {
     "data": {
      "image/png": "[encoded data removed]",
      "text/plain": [
       "<Figure size 640x480 with 1 Axes>"
      ]
     },
     "metadata": {},
     "output_type": "display_data"
    }
   ],
   "source": [
    "Agriculture_Vauxhall['Agriculture First Difference'].plot()"
   ]
  },
  {
   "cell_type": "code",
   "execution_count": 20,
   "id": "7a7da52a",
   "metadata": {},
   "outputs": [],
   "source": [
    "from statsmodels.graphics.tsaplots import plot_acf,plot_pacf\n",
    "from statsmodels.tsa.arima_model import ARIMA\n",
    "import statsmodels.api as sm"
   ]
  },
  {
   "cell_type": "code",
   "execution_count": 21,
   "id": "87bad124",
   "metadata": {},
   "outputs": [
    {
     "name": "stderr",
     "output_type": "stream",
     "text": [
      "C:\\Users\\Dell\\anaconda3\\envs\\DAB200\\lib\\site-packages\\statsmodels\\graphics\\tsaplots.py:348: FutureWarning: The default method 'yw' can produce PACF values outside of the [-1,1] interval. After 0.13, the default will change tounadjusted Yule-Walker ('ywm'). You can use this method now by setting method='ywm'.\n",
      "  warnings.warn(\n"
     ]
    },
    {
     "data": {
      "image/png": "[encoded data removed]",
      "text/plain": [
       "<Figure size 1200x800 with 2 Axes>"
      ]
     },
     "metadata": {},
     "output_type": "display_data"
    }
   ],
   "source": [
    "fig = plt.figure(figsize=(12,8))\n",
    "ax1 = fig.add_subplot(211)\n",
    "fig = plot_acf( Agriculture_Vauxhall['Agriculture'],zero=False,lags=15,ax=ax1)\n",
    "ax2 = fig.add_subplot(212)\n",
    "fig = plot_pacf( Agriculture_Vauxhall['Agriculture'],zero= False,lags=15,ax=ax2)\n"
   ]
  },
  {
   "cell_type": "markdown",
   "id": "bf52bae2",
   "metadata": {},
   "source": [
    "### ARIMA Model"
   ]
  },
  {
   "cell_type": "code",
   "execution_count": 22,
   "id": "2797c9d1",
   "metadata": {
    "scrolled": false
   },
   "outputs": [
    {
     "name": "stderr",
     "output_type": "stream",
     "text": [
      "C:\\Users\\Dell\\anaconda3\\envs\\DAB200\\lib\\site-packages\\statsmodels\\tsa\\base\\tsa_model.py:471: ValueWarning: A date index has been provided, but it has no associated frequency information and so will be ignored when e.g. forecasting.\n",
      "  self._init_dates(dates, freq)\n",
      "C:\\Users\\Dell\\anaconda3\\envs\\DAB200\\lib\\site-packages\\statsmodels\\tsa\\base\\tsa_model.py:471: ValueWarning: A date index has been provided, but it has no associated frequency information and so will be ignored when e.g. forecasting.\n",
      "  self._init_dates(dates, freq)\n",
      "C:\\Users\\Dell\\anaconda3\\envs\\DAB200\\lib\\site-packages\\statsmodels\\tsa\\base\\tsa_model.py:471: ValueWarning: A date index has been provided, but it has no associated frequency information and so will be ignored when e.g. forecasting.\n",
      "  self._init_dates(dates, freq)\n",
      "C:\\Users\\Dell\\anaconda3\\envs\\DAB200\\lib\\site-packages\\statsmodels\\tsa\\base\\tsa_model.py:471: ValueWarning: A date index has been provided, but it has no associated frequency information and so will be ignored when e.g. forecasting.\n",
      "  self._init_dates(dates, freq)\n",
      "C:\\Users\\Dell\\anaconda3\\envs\\DAB200\\lib\\site-packages\\statsmodels\\tsa\\base\\tsa_model.py:471: ValueWarning: A date index has been provided, but it has no associated frequency information and so will be ignored when e.g. forecasting.\n",
      "  self._init_dates(dates, freq)\n",
      "C:\\Users\\Dell\\anaconda3\\envs\\DAB200\\lib\\site-packages\\statsmodels\\tsa\\base\\tsa_model.py:471: ValueWarning: A date index has been provided, but it has no associated frequency information and so will be ignored when e.g. forecasting.\n",
      "  self._init_dates(dates, freq)\n",
      "C:\\Users\\Dell\\anaconda3\\envs\\DAB200\\lib\\site-packages\\statsmodels\\tsa\\base\\tsa_model.py:471: ValueWarning: A date index has been provided, but it has no associated frequency information and so will be ignored when e.g. forecasting.\n",
      "  self._init_dates(dates, freq)\n",
      "C:\\Users\\Dell\\anaconda3\\envs\\DAB200\\lib\\site-packages\\statsmodels\\tsa\\base\\tsa_model.py:471: ValueWarning: A date index has been provided, but it has no associated frequency information and so will be ignored when e.g. forecasting.\n",
      "  self._init_dates(dates, freq)\n",
      "C:\\Users\\Dell\\anaconda3\\envs\\DAB200\\lib\\site-packages\\statsmodels\\tsa\\base\\tsa_model.py:471: ValueWarning: A date index has been provided, but it has no associated frequency information and so will be ignored when e.g. forecasting.\n",
      "  self._init_dates(dates, freq)\n",
      "C:\\Users\\Dell\\anaconda3\\envs\\DAB200\\lib\\site-packages\\statsmodels\\tsa\\base\\tsa_model.py:471: ValueWarning: A date index has been provided, but it has no associated frequency information and so will be ignored when e.g. forecasting.\n",
      "  self._init_dates(dates, freq)\n",
      "C:\\Users\\Dell\\anaconda3\\envs\\DAB200\\lib\\site-packages\\statsmodels\\tsa\\base\\tsa_model.py:471: ValueWarning: A date index has been provided, but it has no associated frequency information and so will be ignored when e.g. forecasting.\n",
      "  self._init_dates(dates, freq)\n",
      "C:\\Users\\Dell\\anaconda3\\envs\\DAB200\\lib\\site-packages\\statsmodels\\tsa\\base\\tsa_model.py:471: ValueWarning: A date index has been provided, but it has no associated frequency information and so will be ignored when e.g. forecasting.\n",
      "  self._init_dates(dates, freq)\n",
      "C:\\Users\\Dell\\anaconda3\\envs\\DAB200\\lib\\site-packages\\statsmodels\\tsa\\base\\tsa_model.py:471: ValueWarning: A date index has been provided, but it has no associated frequency information and so will be ignored when e.g. forecasting.\n",
      "  self._init_dates(dates, freq)\n",
      "C:\\Users\\Dell\\anaconda3\\envs\\DAB200\\lib\\site-packages\\statsmodels\\tsa\\base\\tsa_model.py:471: ValueWarning: A date index has been provided, but it has no associated frequency information and so will be ignored when e.g. forecasting.\n",
      "  self._init_dates(dates, freq)\n",
      "C:\\Users\\Dell\\anaconda3\\envs\\DAB200\\lib\\site-packages\\statsmodels\\tsa\\base\\tsa_model.py:471: ValueWarning: A date index has been provided, but it has no associated frequency information and so will be ignored when e.g. forecasting.\n",
      "  self._init_dates(dates, freq)\n",
      "C:\\Users\\Dell\\anaconda3\\envs\\DAB200\\lib\\site-packages\\statsmodels\\tsa\\base\\tsa_model.py:471: ValueWarning: A date index has been provided, but it has no associated frequency information and so will be ignored when e.g. forecasting.\n",
      "  self._init_dates(dates, freq)\n",
      "C:\\Users\\Dell\\anaconda3\\envs\\DAB200\\lib\\site-packages\\statsmodels\\tsa\\base\\tsa_model.py:471: ValueWarning: A date index has been provided, but it has no associated frequency information and so will be ignored when e.g. forecasting.\n",
      "  self._init_dates(dates, freq)\n",
      "C:\\Users\\Dell\\anaconda3\\envs\\DAB200\\lib\\site-packages\\statsmodels\\tsa\\base\\tsa_model.py:471: ValueWarning: A date index has been provided, but it has no associated frequency information and so will be ignored when e.g. forecasting.\n",
      "  self._init_dates(dates, freq)\n",
      "C:\\Users\\Dell\\anaconda3\\envs\\DAB200\\lib\\site-packages\\statsmodels\\tsa\\base\\tsa_model.py:471: ValueWarning: A date index has been provided, but it has no associated frequency information and so will be ignored when e.g. forecasting.\n",
      "  self._init_dates(dates, freq)\n",
      "C:\\Users\\Dell\\anaconda3\\envs\\DAB200\\lib\\site-packages\\statsmodels\\tsa\\base\\tsa_model.py:471: ValueWarning: A date index has been provided, but it has no associated frequency information and so will be ignored when e.g. forecasting.\n",
      "  self._init_dates(dates, freq)\n",
      "C:\\Users\\Dell\\anaconda3\\envs\\DAB200\\lib\\site-packages\\statsmodels\\tsa\\base\\tsa_model.py:471: ValueWarning: A date index has been provided, but it has no associated frequency information and so will be ignored when e.g. forecasting.\n",
      "  self._init_dates(dates, freq)\n",
      "C:\\Users\\Dell\\anaconda3\\envs\\DAB200\\lib\\site-packages\\statsmodels\\tsa\\base\\tsa_model.py:471: ValueWarning: A date index has been provided, but it has no associated frequency information and so will be ignored when e.g. forecasting.\n",
      "  self._init_dates(dates, freq)\n",
      "C:\\Users\\Dell\\anaconda3\\envs\\DAB200\\lib\\site-packages\\statsmodels\\tsa\\base\\tsa_model.py:471: ValueWarning: A date index has been provided, but it has no associated frequency information and so will be ignored when e.g. forecasting.\n",
      "  self._init_dates(dates, freq)\n",
      "C:\\Users\\Dell\\anaconda3\\envs\\DAB200\\lib\\site-packages\\statsmodels\\tsa\\base\\tsa_model.py:471: ValueWarning: A date index has been provided, but it has no associated frequency information and so will be ignored when e.g. forecasting.\n",
      "  self._init_dates(dates, freq)\n",
      "C:\\Users\\Dell\\anaconda3\\envs\\DAB200\\lib\\site-packages\\statsmodels\\tsa\\base\\tsa_model.py:471: ValueWarning: A date index has been provided, but it has no associated frequency information and so will be ignored when e.g. forecasting.\n",
      "  self._init_dates(dates, freq)\n",
      "C:\\Users\\Dell\\anaconda3\\envs\\DAB200\\lib\\site-packages\\statsmodels\\tsa\\base\\tsa_model.py:471: ValueWarning: A date index has been provided, but it has no associated frequency information and so will be ignored when e.g. forecasting.\n",
      "  self._init_dates(dates, freq)\n",
      "C:\\Users\\Dell\\anaconda3\\envs\\DAB200\\lib\\site-packages\\statsmodels\\tsa\\base\\tsa_model.py:471: ValueWarning: A date index has been provided, but it has no associated frequency information and so will be ignored when e.g. forecasting.\n",
      "  self._init_dates(dates, freq)\n",
      "C:\\Users\\Dell\\anaconda3\\envs\\DAB200\\lib\\site-packages\\statsmodels\\tsa\\base\\tsa_model.py:471: ValueWarning: A date index has been provided, but it has no associated frequency information and so will be ignored when e.g. forecasting.\n",
      "  self._init_dates(dates, freq)\n",
      "C:\\Users\\Dell\\anaconda3\\envs\\DAB200\\lib\\site-packages\\statsmodels\\tsa\\base\\tsa_model.py:471: ValueWarning: A date index has been provided, but it has no associated frequency information and so will be ignored when e.g. forecasting.\n",
      "  self._init_dates(dates, freq)\n",
      "C:\\Users\\Dell\\anaconda3\\envs\\DAB200\\lib\\site-packages\\statsmodels\\tsa\\base\\tsa_model.py:471: ValueWarning: A date index has been provided, but it has no associated frequency information and so will be ignored when e.g. forecasting.\n",
      "  self._init_dates(dates, freq)\n",
      "C:\\Users\\Dell\\anaconda3\\envs\\DAB200\\lib\\site-packages\\statsmodels\\tsa\\base\\tsa_model.py:471: ValueWarning: A date index has been provided, but it has no associated frequency information and so will be ignored when e.g. forecasting.\n",
      "  self._init_dates(dates, freq)\n",
      "C:\\Users\\Dell\\anaconda3\\envs\\DAB200\\lib\\site-packages\\statsmodels\\tsa\\base\\tsa_model.py:471: ValueWarning: A date index has been provided, but it has no associated frequency information and so will be ignored when e.g. forecasting.\n",
      "  self._init_dates(dates, freq)\n",
      "C:\\Users\\Dell\\anaconda3\\envs\\DAB200\\lib\\site-packages\\statsmodels\\tsa\\base\\tsa_model.py:471: ValueWarning: A date index has been provided, but it has no associated frequency information and so will be ignored when e.g. forecasting.\n",
      "  self._init_dates(dates, freq)\n",
      "C:\\Users\\Dell\\anaconda3\\envs\\DAB200\\lib\\site-packages\\statsmodels\\tsa\\base\\tsa_model.py:471: ValueWarning: A date index has been provided, but it has no associated frequency information and so will be ignored when e.g. forecasting.\n",
      "  self._init_dates(dates, freq)\n",
      "C:\\Users\\Dell\\anaconda3\\envs\\DAB200\\lib\\site-packages\\statsmodels\\tsa\\base\\tsa_model.py:471: ValueWarning: A date index has been provided, but it has no associated frequency information and so will be ignored when e.g. forecasting.\n",
      "  self._init_dates(dates, freq)\n",
      "C:\\Users\\Dell\\anaconda3\\envs\\DAB200\\lib\\site-packages\\statsmodels\\tsa\\base\\tsa_model.py:471: ValueWarning: A date index has been provided, but it has no associated frequency information and so will be ignored when e.g. forecasting.\n",
      "  self._init_dates(dates, freq)\n",
      "C:\\Users\\Dell\\anaconda3\\envs\\DAB200\\lib\\site-packages\\statsmodels\\tsa\\base\\tsa_model.py:471: ValueWarning: A date index has been provided, but it has no associated frequency information and so will be ignored when e.g. forecasting.\n",
      "  self._init_dates(dates, freq)\n",
      "C:\\Users\\Dell\\anaconda3\\envs\\DAB200\\lib\\site-packages\\statsmodels\\tsa\\base\\tsa_model.py:471: ValueWarning: A date index has been provided, but it has no associated frequency information and so will be ignored when e.g. forecasting.\n",
      "  self._init_dates(dates, freq)\n",
      "C:\\Users\\Dell\\anaconda3\\envs\\DAB200\\lib\\site-packages\\statsmodels\\tsa\\base\\tsa_model.py:471: ValueWarning: A date index has been provided, but it has no associated frequency information and so will be ignored when e.g. forecasting.\n",
      "  self._init_dates(dates, freq)\n",
      "C:\\Users\\Dell\\anaconda3\\envs\\DAB200\\lib\\site-packages\\statsmodels\\tsa\\statespace\\sarimax.py:966: UserWarning: Non-stationary starting autoregressive parameters found. Using zeros as starting parameters.\n",
      "  warn('Non-stationary starting autoregressive parameters'\n",
      "C:\\Users\\Dell\\anaconda3\\envs\\DAB200\\lib\\site-packages\\statsmodels\\tsa\\statespace\\sarimax.py:978: UserWarning: Non-invertible starting MA parameters found. Using zeros as starting parameters.\n",
      "  warn('Non-invertible starting MA parameters found.'\n",
      "C:\\Users\\Dell\\anaconda3\\envs\\DAB200\\lib\\site-packages\\statsmodels\\tsa\\base\\tsa_model.py:471: ValueWarning: A date index has been provided, but it has no associated frequency information and so will be ignored when e.g. forecasting.\n",
      "  self._init_dates(dates, freq)\n",
      "C:\\Users\\Dell\\anaconda3\\envs\\DAB200\\lib\\site-packages\\statsmodels\\tsa\\base\\tsa_model.py:471: ValueWarning: A date index has been provided, but it has no associated frequency information and so will be ignored when e.g. forecasting.\n",
      "  self._init_dates(dates, freq)\n",
      "C:\\Users\\Dell\\anaconda3\\envs\\DAB200\\lib\\site-packages\\statsmodels\\tsa\\base\\tsa_model.py:471: ValueWarning: A date index has been provided, but it has no associated frequency information and so will be ignored when e.g. forecasting.\n",
      "  self._init_dates(dates, freq)\n",
      "C:\\Users\\Dell\\anaconda3\\envs\\DAB200\\lib\\site-packages\\statsmodels\\base\\model.py:604: ConvergenceWarning: Maximum Likelihood optimization failed to converge. Check mle_retvals\n",
      "  warnings.warn(\"Maximum Likelihood optimization failed to \"\n",
      "C:\\Users\\Dell\\anaconda3\\envs\\DAB200\\lib\\site-packages\\statsmodels\\tsa\\base\\tsa_model.py:471: ValueWarning: A date index has been provided, but it has no associated frequency information and so will be ignored when e.g. forecasting.\n",
      "  self._init_dates(dates, freq)\n",
      "C:\\Users\\Dell\\anaconda3\\envs\\DAB200\\lib\\site-packages\\statsmodels\\tsa\\base\\tsa_model.py:471: ValueWarning: A date index has been provided, but it has no associated frequency information and so will be ignored when e.g. forecasting.\n",
      "  self._init_dates(dates, freq)\n",
      "C:\\Users\\Dell\\anaconda3\\envs\\DAB200\\lib\\site-packages\\statsmodels\\tsa\\base\\tsa_model.py:471: ValueWarning: A date index has been provided, but it has no associated frequency information and so will be ignored when e.g. forecasting.\n",
      "  self._init_dates(dates, freq)\n",
      "C:\\Users\\Dell\\anaconda3\\envs\\DAB200\\lib\\site-packages\\statsmodels\\tsa\\base\\tsa_model.py:471: ValueWarning: A date index has been provided, but it has no associated frequency information and so will be ignored when e.g. forecasting.\n",
      "  self._init_dates(dates, freq)\n",
      "C:\\Users\\Dell\\anaconda3\\envs\\DAB200\\lib\\site-packages\\statsmodels\\tsa\\base\\tsa_model.py:471: ValueWarning: A date index has been provided, but it has no associated frequency information and so will be ignored when e.g. forecasting.\n",
      "  self._init_dates(dates, freq)\n",
      "C:\\Users\\Dell\\anaconda3\\envs\\DAB200\\lib\\site-packages\\statsmodels\\tsa\\base\\tsa_model.py:471: ValueWarning: A date index has been provided, but it has no associated frequency information and so will be ignored when e.g. forecasting.\n",
      "  self._init_dates(dates, freq)\n",
      "C:\\Users\\Dell\\anaconda3\\envs\\DAB200\\lib\\site-packages\\statsmodels\\tsa\\base\\tsa_model.py:471: ValueWarning: A date index has been provided, but it has no associated frequency information and so will be ignored when e.g. forecasting.\n",
      "  self._init_dates(dates, freq)\n",
      "C:\\Users\\Dell\\anaconda3\\envs\\DAB200\\lib\\site-packages\\statsmodels\\tsa\\base\\tsa_model.py:471: ValueWarning: A date index has been provided, but it has no associated frequency information and so will be ignored when e.g. forecasting.\n",
      "  self._init_dates(dates, freq)\n",
      "C:\\Users\\Dell\\anaconda3\\envs\\DAB200\\lib\\site-packages\\statsmodels\\tsa\\base\\tsa_model.py:471: ValueWarning: A date index has been provided, but it has no associated frequency information and so will be ignored when e.g. forecasting.\n",
      "  self._init_dates(dates, freq)\n",
      "C:\\Users\\Dell\\anaconda3\\envs\\DAB200\\lib\\site-packages\\statsmodels\\tsa\\base\\tsa_model.py:471: ValueWarning: A date index has been provided, but it has no associated frequency information and so will be ignored when e.g. forecasting.\n",
      "  self._init_dates(dates, freq)\n",
      "C:\\Users\\Dell\\anaconda3\\envs\\DAB200\\lib\\site-packages\\statsmodels\\tsa\\base\\tsa_model.py:471: ValueWarning: A date index has been provided, but it has no associated frequency information and so will be ignored when e.g. forecasting.\n",
      "  self._init_dates(dates, freq)\n",
      "C:\\Users\\Dell\\anaconda3\\envs\\DAB200\\lib\\site-packages\\statsmodels\\tsa\\base\\tsa_model.py:471: ValueWarning: A date index has been provided, but it has no associated frequency information and so will be ignored when e.g. forecasting.\n",
      "  self._init_dates(dates, freq)\n",
      "C:\\Users\\Dell\\anaconda3\\envs\\DAB200\\lib\\site-packages\\statsmodels\\tsa\\statespace\\sarimax.py:966: UserWarning: Non-stationary starting autoregressive parameters found. Using zeros as starting parameters.\n",
      "  warn('Non-stationary starting autoregressive parameters'\n",
      "C:\\Users\\Dell\\anaconda3\\envs\\DAB200\\lib\\site-packages\\statsmodels\\tsa\\statespace\\sarimax.py:978: UserWarning: Non-invertible starting MA parameters found. Using zeros as starting parameters.\n",
      "  warn('Non-invertible starting MA parameters found.'\n",
      "C:\\Users\\Dell\\anaconda3\\envs\\DAB200\\lib\\site-packages\\statsmodels\\tsa\\base\\tsa_model.py:471: ValueWarning: A date index has been provided, but it has no associated frequency information and so will be ignored when e.g. forecasting.\n",
      "  self._init_dates(dates, freq)\n",
      "C:\\Users\\Dell\\anaconda3\\envs\\DAB200\\lib\\site-packages\\statsmodels\\tsa\\base\\tsa_model.py:471: ValueWarning: A date index has been provided, but it has no associated frequency information and so will be ignored when e.g. forecasting.\n",
      "  self._init_dates(dates, freq)\n",
      "C:\\Users\\Dell\\anaconda3\\envs\\DAB200\\lib\\site-packages\\statsmodels\\tsa\\base\\tsa_model.py:471: ValueWarning: A date index has been provided, but it has no associated frequency information and so will be ignored when e.g. forecasting.\n",
      "  self._init_dates(dates, freq)\n",
      "C:\\Users\\Dell\\anaconda3\\envs\\DAB200\\lib\\site-packages\\statsmodels\\base\\model.py:604: ConvergenceWarning: Maximum Likelihood optimization failed to converge. Check mle_retvals\n",
      "  warnings.warn(\"Maximum Likelihood optimization failed to \"\n",
      "C:\\Users\\Dell\\anaconda3\\envs\\DAB200\\lib\\site-packages\\statsmodels\\tsa\\base\\tsa_model.py:471: ValueWarning: A date index has been provided, but it has no associated frequency information and so will be ignored when e.g. forecasting.\n",
      "  self._init_dates(dates, freq)\n",
      "C:\\Users\\Dell\\anaconda3\\envs\\DAB200\\lib\\site-packages\\statsmodels\\tsa\\base\\tsa_model.py:471: ValueWarning: A date index has been provided, but it has no associated frequency information and so will be ignored when e.g. forecasting.\n",
      "  self._init_dates(dates, freq)\n",
      "C:\\Users\\Dell\\anaconda3\\envs\\DAB200\\lib\\site-packages\\statsmodels\\tsa\\base\\tsa_model.py:471: ValueWarning: A date index has been provided, but it has no associated frequency information and so will be ignored when e.g. forecasting.\n",
      "  self._init_dates(dates, freq)\n",
      "C:\\Users\\Dell\\anaconda3\\envs\\DAB200\\lib\\site-packages\\statsmodels\\tsa\\base\\tsa_model.py:471: ValueWarning: A date index has been provided, but it has no associated frequency information and so will be ignored when e.g. forecasting.\n",
      "  self._init_dates(dates, freq)\n",
      "C:\\Users\\Dell\\anaconda3\\envs\\DAB200\\lib\\site-packages\\statsmodels\\tsa\\base\\tsa_model.py:471: ValueWarning: A date index has been provided, but it has no associated frequency information and so will be ignored when e.g. forecasting.\n",
      "  self._init_dates(dates, freq)\n",
      "C:\\Users\\Dell\\anaconda3\\envs\\DAB200\\lib\\site-packages\\statsmodels\\tsa\\base\\tsa_model.py:471: ValueWarning: A date index has been provided, but it has no associated frequency information and so will be ignored when e.g. forecasting.\n",
      "  self._init_dates(dates, freq)\n",
      "C:\\Users\\Dell\\anaconda3\\envs\\DAB200\\lib\\site-packages\\statsmodels\\tsa\\base\\tsa_model.py:471: ValueWarning: A date index has been provided, but it has no associated frequency information and so will be ignored when e.g. forecasting.\n",
      "  self._init_dates(dates, freq)\n",
      "C:\\Users\\Dell\\anaconda3\\envs\\DAB200\\lib\\site-packages\\statsmodels\\tsa\\base\\tsa_model.py:471: ValueWarning: A date index has been provided, but it has no associated frequency information and so will be ignored when e.g. forecasting.\n",
      "  self._init_dates(dates, freq)\n",
      "C:\\Users\\Dell\\anaconda3\\envs\\DAB200\\lib\\site-packages\\statsmodels\\tsa\\base\\tsa_model.py:471: ValueWarning: A date index has been provided, but it has no associated frequency information and so will be ignored when e.g. forecasting.\n",
      "  self._init_dates(dates, freq)\n",
      "C:\\Users\\Dell\\anaconda3\\envs\\DAB200\\lib\\site-packages\\statsmodels\\tsa\\base\\tsa_model.py:471: ValueWarning: A date index has been provided, but it has no associated frequency information and so will be ignored when e.g. forecasting.\n",
      "  self._init_dates(dates, freq)\n",
      "C:\\Users\\Dell\\anaconda3\\envs\\DAB200\\lib\\site-packages\\statsmodels\\tsa\\base\\tsa_model.py:471: ValueWarning: A date index has been provided, but it has no associated frequency information and so will be ignored when e.g. forecasting.\n",
      "  self._init_dates(dates, freq)\n",
      "C:\\Users\\Dell\\anaconda3\\envs\\DAB200\\lib\\site-packages\\statsmodels\\tsa\\base\\tsa_model.py:471: ValueWarning: A date index has been provided, but it has no associated frequency information and so will be ignored when e.g. forecasting.\n",
      "  self._init_dates(dates, freq)\n",
      "C:\\Users\\Dell\\anaconda3\\envs\\DAB200\\lib\\site-packages\\statsmodels\\tsa\\statespace\\sarimax.py:966: UserWarning: Non-stationary starting autoregressive parameters found. Using zeros as starting parameters.\n",
      "  warn('Non-stationary starting autoregressive parameters'\n",
      "C:\\Users\\Dell\\anaconda3\\envs\\DAB200\\lib\\site-packages\\statsmodels\\tsa\\statespace\\sarimax.py:978: UserWarning: Non-invertible starting MA parameters found. Using zeros as starting parameters.\n",
      "  warn('Non-invertible starting MA parameters found.'\n",
      "C:\\Users\\Dell\\anaconda3\\envs\\DAB200\\lib\\site-packages\\statsmodels\\base\\model.py:604: ConvergenceWarning: Maximum Likelihood optimization failed to converge. Check mle_retvals\n",
      "  warnings.warn(\"Maximum Likelihood optimization failed to \"\n",
      "C:\\Users\\Dell\\anaconda3\\envs\\DAB200\\lib\\site-packages\\statsmodels\\tsa\\base\\tsa_model.py:471: ValueWarning: A date index has been provided, but it has no associated frequency information and so will be ignored when e.g. forecasting.\n",
      "  self._init_dates(dates, freq)\n",
      "C:\\Users\\Dell\\anaconda3\\envs\\DAB200\\lib\\site-packages\\statsmodels\\tsa\\base\\tsa_model.py:471: ValueWarning: A date index has been provided, but it has no associated frequency information and so will be ignored when e.g. forecasting.\n",
      "  self._init_dates(dates, freq)\n",
      "C:\\Users\\Dell\\anaconda3\\envs\\DAB200\\lib\\site-packages\\statsmodels\\tsa\\base\\tsa_model.py:471: ValueWarning: A date index has been provided, but it has no associated frequency information and so will be ignored when e.g. forecasting.\n",
      "  self._init_dates(dates, freq)\n",
      "C:\\Users\\Dell\\anaconda3\\envs\\DAB200\\lib\\site-packages\\statsmodels\\base\\model.py:604: ConvergenceWarning: Maximum Likelihood optimization failed to converge. Check mle_retvals\n",
      "  warnings.warn(\"Maximum Likelihood optimization failed to \"\n",
      "C:\\Users\\Dell\\anaconda3\\envs\\DAB200\\lib\\site-packages\\statsmodels\\tsa\\base\\tsa_model.py:471: ValueWarning: A date index has been provided, but it has no associated frequency information and so will be ignored when e.g. forecasting.\n",
      "  self._init_dates(dates, freq)\n",
      "C:\\Users\\Dell\\anaconda3\\envs\\DAB200\\lib\\site-packages\\statsmodels\\tsa\\base\\tsa_model.py:471: ValueWarning: A date index has been provided, but it has no associated frequency information and so will be ignored when e.g. forecasting.\n",
      "  self._init_dates(dates, freq)\n",
      "C:\\Users\\Dell\\anaconda3\\envs\\DAB200\\lib\\site-packages\\statsmodels\\tsa\\base\\tsa_model.py:471: ValueWarning: A date index has been provided, but it has no associated frequency information and so will be ignored when e.g. forecasting.\n",
      "  self._init_dates(dates, freq)\n",
      "C:\\Users\\Dell\\anaconda3\\envs\\DAB200\\lib\\site-packages\\statsmodels\\base\\model.py:604: ConvergenceWarning: Maximum Likelihood optimization failed to converge. Check mle_retvals\n",
      "  warnings.warn(\"Maximum Likelihood optimization failed to \"\n"
     ]
    }
   ],
   "source": [
    "# Create empty list to store search results\n",
    "order_aic_bic=[]\n",
    "# Loop over p values from 0-2\n",
    "for p in range(5):\n",
    "# Loop over q values from 0-2\n",
    "    for q in range(5):\n",
    "        try:\n",
    "            # Create and fit ARIMA(p,d,q) model\n",
    "            model = sm.tsa.ARIMA(Agriculture_Vauxhall['Agriculture'], order=(p,0,q), trend='c')\n",
    "            results = model.fit()\n",
    "            # Append order and results tuple\n",
    "            order_aic_bic.append((p,q,results.aic, results.bic))\n",
    "        except:\n",
    "            print(p, q, None, None)"
   ]
  },
  {
   "cell_type": "code",
   "execution_count": 23,
   "id": "dcc00316",
   "metadata": {},
   "outputs": [
    {
     "name": "stdout",
     "output_type": "stream",
     "text": [
      "    p  q          AIC          BIC\n",
      "6   1  1   961.720637   975.838353\n",
      "23  4  3   961.888728   993.653589\n",
      "9   1  4   961.936885   986.642888\n",
      "11  2  1   962.402658   980.049803\n",
      "10  2  0   962.608699   976.726415\n",
      "7   1  2   963.333714   980.980859\n",
      "24  4  4   963.394260   998.688551\n",
      "15  3  0   963.542358   981.189503\n",
      "14  2  4   963.890867   992.126299\n",
      "12  2  2   963.934602   985.111176\n",
      "22  4  2   964.050338   992.285771\n",
      "16  3  1   964.831397   986.007971\n",
      "8   1  3   965.226823   986.403398\n",
      "17  3  2   965.370744   990.076747\n",
      "18  3  3   965.374402   993.609835\n",
      "20  4  0   965.447418   986.623992\n",
      "19  3  4   965.848355   997.613216\n",
      "13  2  3   965.985432   990.691436\n",
      "21  4  1   966.797120   991.503124\n",
      "5   1  0   968.977457   979.565745\n",
      "4   0  4  1141.055192  1162.231767\n",
      "3   0  3  1192.608186  1210.255331\n",
      "2   0  2  1296.993626  1311.111343\n",
      "1   0  1  1434.738082  1445.326369\n",
      "0   0  0  1695.050413  1702.109271\n",
      "    p  q          AIC          BIC\n",
      "6   1  1   961.720637   975.838353\n",
      "10  2  0   962.608699   976.726415\n",
      "5   1  0   968.977457   979.565745\n",
      "11  2  1   962.402658   980.049803\n",
      "7   1  2   963.333714   980.980859\n",
      "15  3  0   963.542358   981.189503\n",
      "12  2  2   963.934602   985.111176\n",
      "16  3  1   964.831397   986.007971\n",
      "8   1  3   965.226823   986.403398\n",
      "20  4  0   965.447418   986.623992\n",
      "9   1  4   961.936885   986.642888\n",
      "17  3  2   965.370744   990.076747\n",
      "13  2  3   965.985432   990.691436\n",
      "21  4  1   966.797120   991.503124\n",
      "14  2  4   963.890867   992.126299\n",
      "22  4  2   964.050338   992.285771\n",
      "18  3  3   965.374402   993.609835\n",
      "23  4  3   961.888728   993.653589\n",
      "19  3  4   965.848355   997.613216\n",
      "24  4  4   963.394260   998.688551\n",
      "4   0  4  1141.055192  1162.231767\n",
      "3   0  3  1192.608186  1210.255331\n",
      "2   0  2  1296.993626  1311.111343\n",
      "1   0  1  1434.738082  1445.326369\n",
      "0   0  0  1695.050413  1702.109271\n"
     ]
    }
   ],
   "source": [
    "# Construct DataFrame from order_aic_bic\n",
    "order_df = pd.DataFrame(order_aic_bic,\n",
    "                        columns=['p', 'q', 'AIC', 'BIC'])\n",
    "\n",
    "# Print order_df in order of increasing AIC\n",
    "print(order_df.sort_values('AIC'))\n",
    "\n",
    "# Print order_df in order of increasing BIC\n",
    "print(order_df.sort_values('BIC'))"
   ]
  },
  {
   "cell_type": "markdown",
   "id": "47255ce7",
   "metadata": {},
   "source": [
    "#### Here we can clearly see that value of p and q should be equal to 1, but according to graph it should be more than 1 \n",
    "#### So, we are taking value of p=4 and q =3 and from dicky fuller test d=1 "
   ]
  },
  {
   "cell_type": "code",
   "execution_count": 24,
   "id": "6e4cc876",
   "metadata": {},
   "outputs": [
    {
     "data": {
      "text/html": [
       "<div>\n",
       "<style scoped>\n",
       "    .dataframe tbody tr th:only-of-type {\n",
       "        vertical-align: middle;\n",
       "    }\n",
       "\n",
       "    .dataframe tbody tr th {\n",
       "        vertical-align: top;\n",
       "    }\n",
       "\n",
       "    .dataframe thead th {\n",
       "        text-align: right;\n",
       "    }\n",
       "</style>\n",
       "<table border=\"1\" class=\"dataframe\">\n",
       "  <thead>\n",
       "    <tr style=\"text-align: right;\">\n",
       "      <th></th>\n",
       "      <th>Agriculture</th>\n",
       "      <th>Agriculture First Difference</th>\n",
       "    </tr>\n",
       "    <tr>\n",
       "      <th>Date</th>\n",
       "      <th></th>\n",
       "      <th></th>\n",
       "    </tr>\n",
       "  </thead>\n",
       "  <tbody>\n",
       "    <tr>\n",
       "      <th>01-01-2001</th>\n",
       "      <td>32.521903</td>\n",
       "      <td>NaN</td>\n",
       "    </tr>\n",
       "    <tr>\n",
       "      <th>01-02-2001</th>\n",
       "      <td>33.898051</td>\n",
       "      <td>1.376148</td>\n",
       "    </tr>\n",
       "    <tr>\n",
       "      <th>01-03-2001</th>\n",
       "      <td>33.680808</td>\n",
       "      <td>-0.217243</td>\n",
       "    </tr>\n",
       "    <tr>\n",
       "      <th>01-04-2001</th>\n",
       "      <td>35.297448</td>\n",
       "      <td>1.616640</td>\n",
       "    </tr>\n",
       "    <tr>\n",
       "      <th>01-05-2001</th>\n",
       "      <td>34.795092</td>\n",
       "      <td>-0.502356</td>\n",
       "    </tr>\n",
       "  </tbody>\n",
       "</table>\n",
       "</div>"
      ],
      "text/plain": [
       "            Agriculture  Agriculture First Difference\n",
       "Date                                                 \n",
       "01-01-2001    32.521903                           NaN\n",
       "01-02-2001    33.898051                      1.376148\n",
       "01-03-2001    33.680808                     -0.217243\n",
       "01-04-2001    35.297448                      1.616640\n",
       "01-05-2001    34.795092                     -0.502356"
      ]
     },
     "execution_count": 24,
     "metadata": {},
     "output_type": "execute_result"
    }
   ],
   "source": [
    "Agriculture_Vauxhall.head()"
   ]
  },
  {
   "cell_type": "code",
   "execution_count": 25,
   "id": "2709b88c",
   "metadata": {},
   "outputs": [
    {
     "name": "stderr",
     "output_type": "stream",
     "text": [
      "C:\\Users\\Dell\\anaconda3\\envs\\DAB200\\lib\\site-packages\\statsmodels\\tsa\\base\\tsa_model.py:471: ValueWarning: A date index has been provided, but it has no associated frequency information and so will be ignored when e.g. forecasting.\n",
      "  self._init_dates(dates, freq)\n",
      "C:\\Users\\Dell\\anaconda3\\envs\\DAB200\\lib\\site-packages\\statsmodels\\tsa\\base\\tsa_model.py:471: ValueWarning: A date index has been provided, but it has no associated frequency information and so will be ignored when e.g. forecasting.\n",
      "  self._init_dates(dates, freq)\n",
      "C:\\Users\\Dell\\anaconda3\\envs\\DAB200\\lib\\site-packages\\statsmodels\\tsa\\base\\tsa_model.py:471: ValueWarning: A date index has been provided, but it has no associated frequency information and so will be ignored when e.g. forecasting.\n",
      "  self._init_dates(dates, freq)\n"
     ]
    },
    {
     "name": "stdout",
     "output_type": "stream",
     "text": [
      "                               SARIMAX Results                                \n",
      "==============================================================================\n",
      "Dep. Variable:            Agriculture   No. Observations:                  252\n",
      "Model:                 ARIMA(4, 1, 3)   Log Likelihood                -468.326\n",
      "Date:                Wed, 03 Apr 2024   AIC                            952.653\n",
      "Time:                        12:34:25   BIC                            980.856\n",
      "Sample:                             0   HQIC                           964.002\n",
      "                                - 252                                         \n",
      "Covariance Type:                  opg                                         \n",
      "==============================================================================\n",
      "                 coef    std err          z      P>|z|      [0.025      0.975]\n",
      "------------------------------------------------------------------------------\n",
      "ar.L1          0.1673      0.107      1.571      0.116      -0.041       0.376\n",
      "ar.L2         -0.4553      0.082     -5.586      0.000      -0.615      -0.296\n",
      "ar.L3          0.6933      0.107      6.489      0.000       0.484       0.903\n",
      "ar.L4          0.0625      0.069      0.910      0.363      -0.072       0.197\n",
      "ma.L1         -0.3780      0.089     -4.271      0.000      -0.551      -0.205\n",
      "ma.L2          0.5024      0.047     10.763      0.000       0.411       0.594\n",
      "ma.L3         -0.8897      0.086    -10.379      0.000      -1.058      -0.722\n",
      "sigma2         2.4399      0.168     14.531      0.000       2.111       2.769\n",
      "===================================================================================\n",
      "Ljung-Box (L1) (Q):                   0.07   Jarque-Bera (JB):                55.69\n",
      "Prob(Q):                              0.80   Prob(JB):                         0.00\n",
      "Heteroskedasticity (H):               3.29   Skew:                            -0.28\n",
      "Prob(H) (two-sided):                  0.00   Kurtosis:                         5.24\n",
      "===================================================================================\n",
      "\n",
      "Warnings:\n",
      "[1] Covariance matrix calculated using the outer product of gradients (complex-step).\n"
     ]
    },
    {
     "name": "stderr",
     "output_type": "stream",
     "text": [
      "C:\\Users\\Dell\\anaconda3\\envs\\DAB200\\lib\\site-packages\\statsmodels\\base\\model.py:604: ConvergenceWarning: Maximum Likelihood optimization failed to converge. Check mle_retvals\n",
      "  warnings.warn(\"Maximum Likelihood optimization failed to \"\n"
     ]
    }
   ],
   "source": [
    "model = sm.tsa.ARIMA(Agriculture_Vauxhall['Agriculture'], order=(4, 1, 3))\n",
    "# Fit the model\n",
    "results_ARIMAX = model.fit()\n",
    "\n",
    "# Print model fit summary\n",
    "print(results_ARIMAX.summary())"
   ]
  },
  {
   "cell_type": "markdown",
   "id": "86d4b9d8",
   "metadata": {},
   "source": [
    "### Use testing data as of last six months"
   ]
  },
  {
   "cell_type": "code",
   "execution_count": null,
   "id": "56f4ed1e",
   "metadata": {},
   "outputs": [],
   "source": []
  },
  {
   "cell_type": "code",
   "execution_count": 26,
   "id": "791203a8",
   "metadata": {},
   "outputs": [
    {
     "data": {
      "text/html": [
       "<div>\n",
       "<style scoped>\n",
       "    .dataframe tbody tr th:only-of-type {\n",
       "        vertical-align: middle;\n",
       "    }\n",
       "\n",
       "    .dataframe tbody tr th {\n",
       "        vertical-align: top;\n",
       "    }\n",
       "\n",
       "    .dataframe thead th {\n",
       "        text-align: right;\n",
       "    }\n",
       "</style>\n",
       "<table border=\"1\" class=\"dataframe\">\n",
       "  <thead>\n",
       "    <tr style=\"text-align: right;\">\n",
       "      <th></th>\n",
       "      <th>Agriculture</th>\n",
       "      <th>Agriculture First Difference</th>\n",
       "    </tr>\n",
       "    <tr>\n",
       "      <th>Date</th>\n",
       "      <th></th>\n",
       "      <th></th>\n",
       "    </tr>\n",
       "  </thead>\n",
       "  <tbody>\n",
       "    <tr>\n",
       "      <th>01-03-2021</th>\n",
       "      <td>50.422885</td>\n",
       "      <td>1.482804</td>\n",
       "    </tr>\n",
       "    <tr>\n",
       "      <th>01-04-2021</th>\n",
       "      <td>50.172014</td>\n",
       "      <td>-0.250872</td>\n",
       "    </tr>\n",
       "    <tr>\n",
       "      <th>01-05-2021</th>\n",
       "      <td>51.175610</td>\n",
       "      <td>1.003597</td>\n",
       "    </tr>\n",
       "    <tr>\n",
       "      <th>01-06-2021</th>\n",
       "      <td>55.317519</td>\n",
       "      <td>4.141909</td>\n",
       "    </tr>\n",
       "    <tr>\n",
       "      <th>01-07-2021</th>\n",
       "      <td>55.533914</td>\n",
       "      <td>0.216395</td>\n",
       "    </tr>\n",
       "    <tr>\n",
       "      <th>01-08-2021</th>\n",
       "      <td>52.264987</td>\n",
       "      <td>-3.268927</td>\n",
       "    </tr>\n",
       "    <tr>\n",
       "      <th>01-09-2021</th>\n",
       "      <td>54.272637</td>\n",
       "      <td>2.007650</td>\n",
       "    </tr>\n",
       "    <tr>\n",
       "      <th>01-10-2021</th>\n",
       "      <td>56.094665</td>\n",
       "      <td>1.822028</td>\n",
       "    </tr>\n",
       "    <tr>\n",
       "      <th>01-11-2021</th>\n",
       "      <td>52.319947</td>\n",
       "      <td>-3.774718</td>\n",
       "    </tr>\n",
       "    <tr>\n",
       "      <th>01-12-2021</th>\n",
       "      <td>54.182376</td>\n",
       "      <td>1.862429</td>\n",
       "    </tr>\n",
       "  </tbody>\n",
       "</table>\n",
       "</div>"
      ],
      "text/plain": [
       "            Agriculture  Agriculture First Difference\n",
       "Date                                                 \n",
       "01-03-2021    50.422885                      1.482804\n",
       "01-04-2021    50.172014                     -0.250872\n",
       "01-05-2021    51.175610                      1.003597\n",
       "01-06-2021    55.317519                      4.141909\n",
       "01-07-2021    55.533914                      0.216395\n",
       "01-08-2021    52.264987                     -3.268927\n",
       "01-09-2021    54.272637                      2.007650\n",
       "01-10-2021    56.094665                      1.822028\n",
       "01-11-2021    52.319947                     -3.774718\n",
       "01-12-2021    54.182376                      1.862429"
      ]
     },
     "execution_count": 26,
     "metadata": {},
     "output_type": "execute_result"
    }
   ],
   "source": [
    "Agriculture_Vauxhall.tail(10)"
   ]
  },
  {
   "cell_type": "code",
   "execution_count": null,
   "id": "dc82046e",
   "metadata": {},
   "outputs": [],
   "source": []
  },
  {
   "cell_type": "code",
   "execution_count": 27,
   "id": "33848068",
   "metadata": {},
   "outputs": [
    {
     "ename": "KeyError",
     "evalue": "'2021-06-01'",
     "output_type": "error",
     "traceback": [
      "\u001b[1;31m---------------------------------------------------------------------------\u001b[0m",
      "\u001b[1;31mKeyError\u001b[0m                                  Traceback (most recent call last)",
      "File \u001b[1;32m~\\anaconda3\\envs\\DAB200\\lib\\site-packages\\pandas\\core\\indexes\\base.py:3803\u001b[0m, in \u001b[0;36mIndex.get_loc\u001b[1;34m(self, key, method, tolerance)\u001b[0m\n\u001b[0;32m   3802\u001b[0m \u001b[38;5;28;01mtry\u001b[39;00m:\n\u001b[1;32m-> 3803\u001b[0m     \u001b[38;5;28;01mreturn\u001b[39;00m \u001b[38;5;28;43mself\u001b[39;49m\u001b[38;5;241;43m.\u001b[39;49m\u001b[43m_engine\u001b[49m\u001b[38;5;241;43m.\u001b[39;49m\u001b[43mget_loc\u001b[49m\u001b[43m(\u001b[49m\u001b[43mcasted_key\u001b[49m\u001b[43m)\u001b[49m\n\u001b[0;32m   3804\u001b[0m \u001b[38;5;28;01mexcept\u001b[39;00m \u001b[38;5;167;01mKeyError\u001b[39;00m \u001b[38;5;28;01mas\u001b[39;00m err:\n",
      "File \u001b[1;32m~\\anaconda3\\envs\\DAB200\\lib\\site-packages\\pandas\\_libs\\index.pyx:138\u001b[0m, in \u001b[0;36mpandas._libs.index.IndexEngine.get_loc\u001b[1;34m()\u001b[0m\n",
      "File \u001b[1;32m~\\anaconda3\\envs\\DAB200\\lib\\site-packages\\pandas\\_libs\\index.pyx:165\u001b[0m, in \u001b[0;36mpandas._libs.index.IndexEngine.get_loc\u001b[1;34m()\u001b[0m\n",
      "File \u001b[1;32mpandas\\_libs\\hashtable_class_helper.pxi:5745\u001b[0m, in \u001b[0;36mpandas._libs.hashtable.PyObjectHashTable.get_item\u001b[1;34m()\u001b[0m\n",
      "File \u001b[1;32mpandas\\_libs\\hashtable_class_helper.pxi:5753\u001b[0m, in \u001b[0;36mpandas._libs.hashtable.PyObjectHashTable.get_item\u001b[1;34m()\u001b[0m\n",
      "\u001b[1;31mKeyError\u001b[0m: '2021-06-01'",
      "\nThe above exception was the direct cause of the following exception:\n",
      "\u001b[1;31mKeyError\u001b[0m                                  Traceback (most recent call last)",
      "Cell \u001b[1;32mIn[27], line 10\u001b[0m\n\u001b[0;32m      7\u001b[0m test_dataset_end_str \u001b[38;5;241m=\u001b[39m test_dataset_end\u001b[38;5;241m.\u001b[39mstrftime(\u001b[38;5;124m'\u001b[39m\u001b[38;5;124m%\u001b[39m\u001b[38;5;124mY-\u001b[39m\u001b[38;5;124m%\u001b[39m\u001b[38;5;124mm-\u001b[39m\u001b[38;5;132;01m%d\u001b[39;00m\u001b[38;5;124m'\u001b[39m)\n\u001b[0;32m      9\u001b[0m \u001b[38;5;66;03m# Slicing the DataFrame based on the dates\u001b[39;00m\n\u001b[1;32m---> 10\u001b[0m train_data \u001b[38;5;241m=\u001b[39m \u001b[43mAgriculture_Vauxhall\u001b[49m\u001b[43m[\u001b[49m\u001b[43m:\u001b[49m\u001b[43mtrain_dataset_end_str\u001b[49m\u001b[43m]\u001b[49m\n\u001b[0;32m     11\u001b[0m test_data \u001b[38;5;241m=\u001b[39m Agriculture_Vauxhall[(train_dataset_end \u001b[38;5;241m+\u001b[39m timedelta(days\u001b[38;5;241m=\u001b[39m\u001b[38;5;241m1\u001b[39m))\u001b[38;5;241m.\u001b[39mstrftime(\u001b[38;5;124m'\u001b[39m\u001b[38;5;124m%\u001b[39m\u001b[38;5;124mY-\u001b[39m\u001b[38;5;124m%\u001b[39m\u001b[38;5;124mm-\u001b[39m\u001b[38;5;132;01m%d\u001b[39;00m\u001b[38;5;124m'\u001b[39m):test_dataset_end_str]\n\u001b[0;32m     13\u001b[0m \u001b[38;5;66;03m# Displaying the sliced DataFrames\u001b[39;00m\n",
      "File \u001b[1;32m~\\anaconda3\\envs\\DAB200\\lib\\site-packages\\pandas\\core\\frame.py:3777\u001b[0m, in \u001b[0;36mDataFrame.__getitem__\u001b[1;34m(self, key)\u001b[0m\n\u001b[0;32m   3775\u001b[0m         \u001b[38;5;28;01mreturn\u001b[39;00m \u001b[38;5;28mself\u001b[39m\u001b[38;5;241m.\u001b[39m_getitem_multilevel(key)\n\u001b[0;32m   3776\u001b[0m \u001b[38;5;66;03m# Do we have a slicer (on rows)?\u001b[39;00m\n\u001b[1;32m-> 3777\u001b[0m indexer \u001b[38;5;241m=\u001b[39m \u001b[43mconvert_to_index_sliceable\u001b[49m\u001b[43m(\u001b[49m\u001b[38;5;28;43mself\u001b[39;49m\u001b[43m,\u001b[49m\u001b[43m \u001b[49m\u001b[43mkey\u001b[49m\u001b[43m)\u001b[49m\n\u001b[0;32m   3778\u001b[0m \u001b[38;5;28;01mif\u001b[39;00m indexer \u001b[38;5;129;01mis\u001b[39;00m \u001b[38;5;129;01mnot\u001b[39;00m \u001b[38;5;28;01mNone\u001b[39;00m:\n\u001b[0;32m   3779\u001b[0m     \u001b[38;5;28;01mif\u001b[39;00m \u001b[38;5;28misinstance\u001b[39m(indexer, np\u001b[38;5;241m.\u001b[39mndarray):\n",
      "File \u001b[1;32m~\\anaconda3\\envs\\DAB200\\lib\\site-packages\\pandas\\core\\indexing.py:2494\u001b[0m, in \u001b[0;36mconvert_to_index_sliceable\u001b[1;34m(obj, key)\u001b[0m\n\u001b[0;32m   2492\u001b[0m idx \u001b[38;5;241m=\u001b[39m obj\u001b[38;5;241m.\u001b[39mindex\n\u001b[0;32m   2493\u001b[0m \u001b[38;5;28;01mif\u001b[39;00m \u001b[38;5;28misinstance\u001b[39m(key, \u001b[38;5;28mslice\u001b[39m):\n\u001b[1;32m-> 2494\u001b[0m     \u001b[38;5;28;01mreturn\u001b[39;00m \u001b[43midx\u001b[49m\u001b[38;5;241;43m.\u001b[39;49m\u001b[43m_convert_slice_indexer\u001b[49m\u001b[43m(\u001b[49m\u001b[43mkey\u001b[49m\u001b[43m,\u001b[49m\u001b[43m \u001b[49m\u001b[43mkind\u001b[49m\u001b[38;5;241;43m=\u001b[39;49m\u001b[38;5;124;43m\"\u001b[39;49m\u001b[38;5;124;43mgetitem\u001b[39;49m\u001b[38;5;124;43m\"\u001b[39;49m\u001b[43m,\u001b[49m\u001b[43m \u001b[49m\u001b[43mis_frame\u001b[49m\u001b[38;5;241;43m=\u001b[39;49m\u001b[38;5;28;43;01mTrue\u001b[39;49;00m\u001b[43m)\u001b[49m\n\u001b[0;32m   2496\u001b[0m \u001b[38;5;28;01melif\u001b[39;00m \u001b[38;5;28misinstance\u001b[39m(key, \u001b[38;5;28mstr\u001b[39m):\n\u001b[0;32m   2497\u001b[0m \n\u001b[0;32m   2498\u001b[0m     \u001b[38;5;66;03m# we are an actual column\u001b[39;00m\n\u001b[0;32m   2499\u001b[0m     \u001b[38;5;28;01mif\u001b[39;00m key \u001b[38;5;129;01min\u001b[39;00m obj\u001b[38;5;241m.\u001b[39mcolumns:\n",
      "File \u001b[1;32m~\\anaconda3\\envs\\DAB200\\lib\\site-packages\\pandas\\core\\indexes\\base.py:4327\u001b[0m, in \u001b[0;36mIndex._convert_slice_indexer\u001b[1;34m(self, key, kind, is_frame)\u001b[0m\n\u001b[0;32m   4325\u001b[0m     indexer \u001b[38;5;241m=\u001b[39m key\n\u001b[0;32m   4326\u001b[0m \u001b[38;5;28;01melse\u001b[39;00m:\n\u001b[1;32m-> 4327\u001b[0m     indexer \u001b[38;5;241m=\u001b[39m \u001b[38;5;28;43mself\u001b[39;49m\u001b[38;5;241;43m.\u001b[39;49m\u001b[43mslice_indexer\u001b[49m\u001b[43m(\u001b[49m\u001b[43mstart\u001b[49m\u001b[43m,\u001b[49m\u001b[43m \u001b[49m\u001b[43mstop\u001b[49m\u001b[43m,\u001b[49m\u001b[43m \u001b[49m\u001b[43mstep\u001b[49m\u001b[43m)\u001b[49m\n\u001b[0;32m   4329\u001b[0m \u001b[38;5;28;01mreturn\u001b[39;00m indexer\n",
      "File \u001b[1;32m~\\anaconda3\\envs\\DAB200\\lib\\site-packages\\pandas\\core\\indexes\\base.py:6602\u001b[0m, in \u001b[0;36mIndex.slice_indexer\u001b[1;34m(self, start, end, step, kind)\u001b[0m\n\u001b[0;32m   6559\u001b[0m \u001b[38;5;124;03m\"\"\"\u001b[39;00m\n\u001b[0;32m   6560\u001b[0m \u001b[38;5;124;03mCompute the slice indexer for input labels and step.\u001b[39;00m\n\u001b[0;32m   6561\u001b[0m \n\u001b[1;32m   (...)\u001b[0m\n\u001b[0;32m   6598\u001b[0m \u001b[38;5;124;03mslice(1, 3, None)\u001b[39;00m\n\u001b[0;32m   6599\u001b[0m \u001b[38;5;124;03m\"\"\"\u001b[39;00m\n\u001b[0;32m   6600\u001b[0m \u001b[38;5;28mself\u001b[39m\u001b[38;5;241m.\u001b[39m_deprecated_arg(kind, \u001b[38;5;124m\"\u001b[39m\u001b[38;5;124mkind\u001b[39m\u001b[38;5;124m\"\u001b[39m, \u001b[38;5;124m\"\u001b[39m\u001b[38;5;124mslice_indexer\u001b[39m\u001b[38;5;124m\"\u001b[39m)\n\u001b[1;32m-> 6602\u001b[0m start_slice, end_slice \u001b[38;5;241m=\u001b[39m \u001b[38;5;28;43mself\u001b[39;49m\u001b[38;5;241;43m.\u001b[39;49m\u001b[43mslice_locs\u001b[49m\u001b[43m(\u001b[49m\u001b[43mstart\u001b[49m\u001b[43m,\u001b[49m\u001b[43m \u001b[49m\u001b[43mend\u001b[49m\u001b[43m,\u001b[49m\u001b[43m \u001b[49m\u001b[43mstep\u001b[49m\u001b[38;5;241;43m=\u001b[39;49m\u001b[43mstep\u001b[49m\u001b[43m)\u001b[49m\n\u001b[0;32m   6604\u001b[0m \u001b[38;5;66;03m# return a slice\u001b[39;00m\n\u001b[0;32m   6605\u001b[0m \u001b[38;5;28;01mif\u001b[39;00m \u001b[38;5;129;01mnot\u001b[39;00m is_scalar(start_slice):\n",
      "File \u001b[1;32m~\\anaconda3\\envs\\DAB200\\lib\\site-packages\\pandas\\core\\indexes\\base.py:6816\u001b[0m, in \u001b[0;36mIndex.slice_locs\u001b[1;34m(self, start, end, step, kind)\u001b[0m\n\u001b[0;32m   6814\u001b[0m end_slice \u001b[38;5;241m=\u001b[39m \u001b[38;5;28;01mNone\u001b[39;00m\n\u001b[0;32m   6815\u001b[0m \u001b[38;5;28;01mif\u001b[39;00m end \u001b[38;5;129;01mis\u001b[39;00m \u001b[38;5;129;01mnot\u001b[39;00m \u001b[38;5;28;01mNone\u001b[39;00m:\n\u001b[1;32m-> 6816\u001b[0m     end_slice \u001b[38;5;241m=\u001b[39m \u001b[38;5;28;43mself\u001b[39;49m\u001b[38;5;241;43m.\u001b[39;49m\u001b[43mget_slice_bound\u001b[49m\u001b[43m(\u001b[49m\u001b[43mend\u001b[49m\u001b[43m,\u001b[49m\u001b[43m \u001b[49m\u001b[38;5;124;43m\"\u001b[39;49m\u001b[38;5;124;43mright\u001b[39;49m\u001b[38;5;124;43m\"\u001b[39;49m\u001b[43m)\u001b[49m\n\u001b[0;32m   6817\u001b[0m \u001b[38;5;28;01mif\u001b[39;00m end_slice \u001b[38;5;129;01mis\u001b[39;00m \u001b[38;5;28;01mNone\u001b[39;00m:\n\u001b[0;32m   6818\u001b[0m     end_slice \u001b[38;5;241m=\u001b[39m \u001b[38;5;28mlen\u001b[39m(\u001b[38;5;28mself\u001b[39m)\n",
      "File \u001b[1;32m~\\anaconda3\\envs\\DAB200\\lib\\site-packages\\pandas\\core\\indexes\\base.py:6729\u001b[0m, in \u001b[0;36mIndex.get_slice_bound\u001b[1;34m(self, label, side, kind)\u001b[0m\n\u001b[0;32m   6726\u001b[0m         \u001b[38;5;28;01mreturn\u001b[39;00m \u001b[38;5;28mself\u001b[39m\u001b[38;5;241m.\u001b[39m_searchsorted_monotonic(label, side)\n\u001b[0;32m   6727\u001b[0m     \u001b[38;5;28;01mexcept\u001b[39;00m \u001b[38;5;167;01mValueError\u001b[39;00m:\n\u001b[0;32m   6728\u001b[0m         \u001b[38;5;66;03m# raise the original KeyError\u001b[39;00m\n\u001b[1;32m-> 6729\u001b[0m         \u001b[38;5;28;01mraise\u001b[39;00m err\n\u001b[0;32m   6731\u001b[0m \u001b[38;5;28;01mif\u001b[39;00m \u001b[38;5;28misinstance\u001b[39m(slc, np\u001b[38;5;241m.\u001b[39mndarray):\n\u001b[0;32m   6732\u001b[0m     \u001b[38;5;66;03m# get_loc may return a boolean array, which\u001b[39;00m\n\u001b[0;32m   6733\u001b[0m     \u001b[38;5;66;03m# is OK as long as they are representable by a slice.\u001b[39;00m\n\u001b[0;32m   6734\u001b[0m     \u001b[38;5;28;01massert\u001b[39;00m is_bool_dtype(slc\u001b[38;5;241m.\u001b[39mdtype)\n",
      "File \u001b[1;32m~\\anaconda3\\envs\\DAB200\\lib\\site-packages\\pandas\\core\\indexes\\base.py:6723\u001b[0m, in \u001b[0;36mIndex.get_slice_bound\u001b[1;34m(self, label, side, kind)\u001b[0m\n\u001b[0;32m   6721\u001b[0m \u001b[38;5;66;03m# we need to look up the label\u001b[39;00m\n\u001b[0;32m   6722\u001b[0m \u001b[38;5;28;01mtry\u001b[39;00m:\n\u001b[1;32m-> 6723\u001b[0m     slc \u001b[38;5;241m=\u001b[39m \u001b[38;5;28;43mself\u001b[39;49m\u001b[38;5;241;43m.\u001b[39;49m\u001b[43mget_loc\u001b[49m\u001b[43m(\u001b[49m\u001b[43mlabel\u001b[49m\u001b[43m)\u001b[49m\n\u001b[0;32m   6724\u001b[0m \u001b[38;5;28;01mexcept\u001b[39;00m \u001b[38;5;167;01mKeyError\u001b[39;00m \u001b[38;5;28;01mas\u001b[39;00m err:\n\u001b[0;32m   6725\u001b[0m     \u001b[38;5;28;01mtry\u001b[39;00m:\n",
      "File \u001b[1;32m~\\anaconda3\\envs\\DAB200\\lib\\site-packages\\pandas\\core\\indexes\\base.py:3805\u001b[0m, in \u001b[0;36mIndex.get_loc\u001b[1;34m(self, key, method, tolerance)\u001b[0m\n\u001b[0;32m   3803\u001b[0m     \u001b[38;5;28;01mreturn\u001b[39;00m \u001b[38;5;28mself\u001b[39m\u001b[38;5;241m.\u001b[39m_engine\u001b[38;5;241m.\u001b[39mget_loc(casted_key)\n\u001b[0;32m   3804\u001b[0m \u001b[38;5;28;01mexcept\u001b[39;00m \u001b[38;5;167;01mKeyError\u001b[39;00m \u001b[38;5;28;01mas\u001b[39;00m err:\n\u001b[1;32m-> 3805\u001b[0m     \u001b[38;5;28;01mraise\u001b[39;00m \u001b[38;5;167;01mKeyError\u001b[39;00m(key) \u001b[38;5;28;01mfrom\u001b[39;00m \u001b[38;5;21;01merr\u001b[39;00m\n\u001b[0;32m   3806\u001b[0m \u001b[38;5;28;01mexcept\u001b[39;00m \u001b[38;5;167;01mTypeError\u001b[39;00m:\n\u001b[0;32m   3807\u001b[0m     \u001b[38;5;66;03m# If we have a listlike key, _check_indexing_error will raise\u001b[39;00m\n\u001b[0;32m   3808\u001b[0m     \u001b[38;5;66;03m#  InvalidIndexError. Otherwise we fall through and re-raise\u001b[39;00m\n\u001b[0;32m   3809\u001b[0m     \u001b[38;5;66;03m#  the TypeError.\u001b[39;00m\n\u001b[0;32m   3810\u001b[0m     \u001b[38;5;28mself\u001b[39m\u001b[38;5;241m.\u001b[39m_check_indexing_error(key)\n",
      "\u001b[1;31mKeyError\u001b[0m: '2021-06-01'"
     ]
    }
   ],
   "source": [
    "from datetime import datetime, timedelta\n",
    "\n",
    "\n",
    "train_dataset_end=datetime(2021,6,1)\n",
    "test_dataset_end=datetime(2021,12,1)\n",
    "train_dataset_end_str = train_dataset_end.strftime('%Y-%m-%d')\n",
    "test_dataset_end_str = test_dataset_end.strftime('%Y-%m-%d')\n",
    "\n",
    "# Slicing the DataFrame based on the dates\n",
    "train_data = Agriculture_Vauxhall[:train_dataset_end_str]\n",
    "test_data = Agriculture_Vauxhall[(train_dataset_end + timedelta(days=1)).strftime('%Y-%m-%d'):test_dataset_end_str]\n",
    "\n",
    "# Displaying the sliced DataFrames\n",
    "print(\"Train Data:\")\n",
    "print(train_data)\n",
    "print(\"\\nTest Data:\")\n",
    "print(test_data)"
   ]
  },
  {
   "cell_type": "code",
   "execution_count": null,
   "id": "384916b5",
   "metadata": {},
   "outputs": [],
   "source": [
    "Agriculture_Vauxhall.tail(6)"
   ]
  },
  {
   "cell_type": "code",
   "execution_count": null,
   "id": "5c736cce",
   "metadata": {},
   "outputs": [],
   "source": [
    "Agriculture_Vauxhall.tail()"
   ]
  },
  {
   "cell_type": "code",
   "execution_count": null,
   "id": "8136231a",
   "metadata": {},
   "outputs": [],
   "source": [
    "test_data"
   ]
  },
  {
   "cell_type": "code",
   "execution_count": null,
   "id": "49d08733",
   "metadata": {},
   "outputs": [],
   "source": [
    "model = sm.tsa.ARIMA(train_data['Agriculture'], order=(4, 1, 3))\n",
    "results = model.fit()"
   ]
  },
  {
   "cell_type": "code",
   "execution_count": null,
   "id": "e5b8d5b3",
   "metadata": {},
   "outputs": [],
   "source": [
    "print(results.forecast(len(test_data['Agriculture'])))"
   ]
  },
  {
   "cell_type": "code",
   "execution_count": null,
   "id": "115ca19d",
   "metadata": {},
   "outputs": [],
   "source": [
    "print(results.forecast(6))"
   ]
  },
  {
   "cell_type": "code",
   "execution_count": null,
   "id": "0fbe7be2",
   "metadata": {},
   "outputs": [],
   "source": [
    "predictions = results.forecast(len(test_data['Agriculture']))\n",
    "\n",
    "predictions = pd.Series(predictions, index=test_data.index)\n",
    "print(predictions)\n",
    "residuals = test_data['Agriculture'] - predictions\n",
    "\n",
    "\n",
    "plt.figure(figsize=(10,4))\n",
    "plt.plot(residuals)\n",
    "plt.axhline(0, linestyle='--', color='k')\n",
    "plt.title('Residuals from ARIMA Model', fontsize=20)\n",
    "plt.ylabel('Error', fontsize=16)"
   ]
  },
  {
   "cell_type": "code",
   "execution_count": null,
   "id": "c91facc1",
   "metadata": {},
   "outputs": [],
   "source": [
    "Agriculture_Vauxhall.head()"
   ]
  },
  {
   "cell_type": "code",
   "execution_count": null,
   "id": "6529779d",
   "metadata": {},
   "outputs": [],
   "source": [
    "Agriculture_Vauxhall.tail()"
   ]
  },
  {
   "cell_type": "code",
   "execution_count": null,
   "id": "ff8bd020",
   "metadata": {},
   "outputs": [],
   "source": []
  },
  {
   "cell_type": "code",
   "execution_count": null,
   "id": "ec565bb5",
   "metadata": {},
   "outputs": [],
   "source": [
    "start_date = datetime(2001, 1, 1)\n",
    "end_date = datetime(2021, 12, 1)\n",
    "\n",
    "plt.figure(figsize=(10, 4))\n",
    "\n",
    "plt.plot(Agriculture_Vauxhall.index, Agriculture_Vauxhall['Agriculture'])\n",
    "plt.plot(predictions)\n",
    "\n",
    "plt.legend(('Data', 'Predictions'), fontsize=16)\n",
    "\n",
    "plt.title('Agriculture per year and Prediction of Last Six months', fontsize=20)\n",
    "plt.ylabel('Agriculture', fontsize=16)\n",
    "\n",
    "# Convert Timestamp objects to strings\n",
    "for year in range(start_date.year, end_date.year):\n",
    "    plt.axvline(str(year) + '-01-01', color='k', linestyle='--', alpha=0.2)\n",
    "\n",
    "plt.show()\n"
   ]
  },
  {
   "cell_type": "code",
   "execution_count": null,
   "id": "a4eedb3b",
   "metadata": {},
   "outputs": [],
   "source": [
    "print('Mean Absolute Percent Error:', round(np.mean(abs(residuals/test_data['Agriculture'])),4))\n",
    "print('Root Mean Squared Error:', np.sqrt(np.mean(residuals**2)))\n"
   ]
  },
  {
   "cell_type": "markdown",
   "id": "49d6efdb",
   "metadata": {},
   "source": [
    "#### Prediction of next 6 months"
   ]
  },
  {
   "cell_type": "code",
   "execution_count": null,
   "id": "87924e99",
   "metadata": {},
   "outputs": [],
   "source": [
    "forecast= results_ARIMAX.forecast(steps=6)"
   ]
  },
  {
   "cell_type": "code",
   "execution_count": null,
   "id": "35e50a6b",
   "metadata": {},
   "outputs": [],
   "source": [
    "print(\"Forecasted Sales for the next 6 months:\", forecast)"
   ]
  },
  {
   "cell_type": "code",
   "execution_count": null,
   "id": "db6e2c65",
   "metadata": {},
   "outputs": [],
   "source": [
    "fig = plt.figure(figsize=(12,8))\n",
    "plt.plot(Agriculture_Vauxhall.index, Agriculture_Vauxhall['Agriculture'], label='Historical Sales')\n",
    "\n",
    "# Plot predicted sales\n",
    "forecast_index = pd.date_range(start=Agriculture_Vauxhall.index[-1], periods=7, freq='M')[1:]\n",
    "print(forecast_index)\n",
    "#plt.plot(forecast_index, forecast, label='Predicted Agriculture', color='red')\n",
    "\n",
    "plt.title('Historical vs Predicted Sales')\n",
    "plt.xlabel('Date')\n",
    "plt.ylabel('Agriculture')\n",
    "plt.legend()\n",
    "plt.show()"
   ]
  },
  {
   "cell_type": "code",
   "execution_count": null,
   "id": "44fdacbd",
   "metadata": {},
   "outputs": [],
   "source": [
    "plt.plot(forecast_index, forecast, label='Predicted Agriculture', color='red')"
   ]
  },
  {
   "cell_type": "code",
   "execution_count": null,
   "id": "6fdfd88c",
   "metadata": {},
   "outputs": [],
   "source": [
    "plt.plot(forecast)"
   ]
  },
  {
   "cell_type": "code",
   "execution_count": null,
   "id": "68355838",
   "metadata": {},
   "outputs": [],
   "source": [
    "plt.plot(forecast_index)"
   ]
  },
  {
   "cell_type": "code",
   "execution_count": null,
   "id": "c9da8c82",
   "metadata": {},
   "outputs": [],
   "source": []
  },
  {
   "cell_type": "code",
   "execution_count": null,
   "id": "14c6906e",
   "metadata": {},
   "outputs": [],
   "source": [
    "forecast_index = pd.date_range(start=Agriculture_Vauxhall.index[-1], periods=7, freq='M')[1:]"
   ]
  },
  {
   "cell_type": "code",
   "execution_count": null,
   "id": "877ef0a4",
   "metadata": {},
   "outputs": [],
   "source": [
    "print(forecast_index)"
   ]
  },
  {
   "cell_type": "code",
   "execution_count": null,
   "id": "a04b6975",
   "metadata": {},
   "outputs": [],
   "source": []
  }
 ],
 "metadata": {
  "kernelspec": {
   "display_name": "Python 3 (ipykernel)",
   "language": "python",
   "name": "python3"
  },
  "language_info": {
   "codemirror_mode": {
    "name": "ipython",
    "version": 3
   },
   "file_extension": ".py",
   "mimetype": "text/x-python",
   "name": "python",
   "nbconvert_exporter": "python",
   "pygments_lexer": "ipython3",
   "version": "3.9.15"
  }
 },
 "nbformat": 4,
 "nbformat_minor": 5
}
